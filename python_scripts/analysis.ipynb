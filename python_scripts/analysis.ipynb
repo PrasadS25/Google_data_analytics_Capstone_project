{
 "cells": [
  {
   "cell_type": "code",
   "execution_count": 1,
   "metadata": {},
   "outputs": [],
   "source": [
    "import pandas as pd"
   ]
  },
  {
   "cell_type": "code",
   "execution_count": 2,
   "metadata": {},
   "outputs": [],
   "source": [
    "final_df = pd.read_csv(r\"C:\\Users\\raman\\Desktop\\Courses\\Google_DA\\Capstone\\cleaned_datasets\\full_year_combined.csv\")"
   ]
  },
  {
   "cell_type": "code",
   "execution_count": 3,
   "metadata": {},
   "outputs": [
    {
     "data": {
      "text/html": [
       "<div>\n",
       "<style scoped>\n",
       "    .dataframe tbody tr th:only-of-type {\n",
       "        vertical-align: middle;\n",
       "    }\n",
       "\n",
       "    .dataframe tbody tr th {\n",
       "        vertical-align: top;\n",
       "    }\n",
       "\n",
       "    .dataframe thead th {\n",
       "        text-align: right;\n",
       "    }\n",
       "</style>\n",
       "<table border=\"1\" class=\"dataframe\">\n",
       "  <thead>\n",
       "    <tr style=\"text-align: right;\">\n",
       "      <th></th>\n",
       "      <th>ride_id</th>\n",
       "      <th>rideable_type</th>\n",
       "      <th>started_at</th>\n",
       "      <th>ended_at</th>\n",
       "      <th>start_station_name</th>\n",
       "      <th>start_station_id</th>\n",
       "      <th>end_station_name</th>\n",
       "      <th>end_station_id</th>\n",
       "      <th>start_lat</th>\n",
       "      <th>start_lng</th>\n",
       "      <th>end_lat</th>\n",
       "      <th>end_lng</th>\n",
       "      <th>member_casual</th>\n",
       "      <th>ride_length</th>\n",
       "      <th>day_of_week</th>\n",
       "    </tr>\n",
       "  </thead>\n",
       "  <tbody>\n",
       "    <tr>\n",
       "      <th>0</th>\n",
       "      <td>6F1682AC40EB6F71</td>\n",
       "      <td>electric_bike</td>\n",
       "      <td>2023-06-05 13:34:12</td>\n",
       "      <td>2023-06-05 14:31:56</td>\n",
       "      <td>Not Available</td>\n",
       "      <td>Not Available</td>\n",
       "      <td>Not Available</td>\n",
       "      <td>Not Available</td>\n",
       "      <td>41.91</td>\n",
       "      <td>-87.69</td>\n",
       "      <td>41.91</td>\n",
       "      <td>-87.70</td>\n",
       "      <td>member</td>\n",
       "      <td>00:57:44</td>\n",
       "      <td>1</td>\n",
       "    </tr>\n",
       "    <tr>\n",
       "      <th>1</th>\n",
       "      <td>622A1686D64948EB</td>\n",
       "      <td>electric_bike</td>\n",
       "      <td>2023-06-05 01:30:22</td>\n",
       "      <td>2023-06-05 01:33:06</td>\n",
       "      <td>Not Available</td>\n",
       "      <td>Not Available</td>\n",
       "      <td>Not Available</td>\n",
       "      <td>Not Available</td>\n",
       "      <td>41.94</td>\n",
       "      <td>-87.65</td>\n",
       "      <td>41.94</td>\n",
       "      <td>-87.65</td>\n",
       "      <td>member</td>\n",
       "      <td>00:02:44</td>\n",
       "      <td>1</td>\n",
       "    </tr>\n",
       "    <tr>\n",
       "      <th>2</th>\n",
       "      <td>3C88859D926253B4</td>\n",
       "      <td>electric_bike</td>\n",
       "      <td>2023-06-20 18:15:49</td>\n",
       "      <td>2023-06-20 18:32:05</td>\n",
       "      <td>Not Available</td>\n",
       "      <td>Not Available</td>\n",
       "      <td>Not Available</td>\n",
       "      <td>Not Available</td>\n",
       "      <td>41.95</td>\n",
       "      <td>-87.68</td>\n",
       "      <td>41.92</td>\n",
       "      <td>-87.63</td>\n",
       "      <td>member</td>\n",
       "      <td>00:16:16</td>\n",
       "      <td>2</td>\n",
       "    </tr>\n",
       "    <tr>\n",
       "      <th>3</th>\n",
       "      <td>EAD8A5E0259DEC88</td>\n",
       "      <td>electric_bike</td>\n",
       "      <td>2023-06-19 14:56:00</td>\n",
       "      <td>2023-06-19 15:00:35</td>\n",
       "      <td>Not Available</td>\n",
       "      <td>Not Available</td>\n",
       "      <td>Not Available</td>\n",
       "      <td>Not Available</td>\n",
       "      <td>41.99</td>\n",
       "      <td>-87.65</td>\n",
       "      <td>41.98</td>\n",
       "      <td>-87.66</td>\n",
       "      <td>member</td>\n",
       "      <td>00:04:35</td>\n",
       "      <td>1</td>\n",
       "    </tr>\n",
       "    <tr>\n",
       "      <th>4</th>\n",
       "      <td>5A36F21930D6A55C</td>\n",
       "      <td>electric_bike</td>\n",
       "      <td>2023-06-19 15:03:34</td>\n",
       "      <td>2023-06-19 15:07:16</td>\n",
       "      <td>Not Available</td>\n",
       "      <td>Not Available</td>\n",
       "      <td>Not Available</td>\n",
       "      <td>Not Available</td>\n",
       "      <td>41.98</td>\n",
       "      <td>-87.66</td>\n",
       "      <td>41.99</td>\n",
       "      <td>-87.65</td>\n",
       "      <td>member</td>\n",
       "      <td>00:03:42</td>\n",
       "      <td>1</td>\n",
       "    </tr>\n",
       "  </tbody>\n",
       "</table>\n",
       "</div>"
      ],
      "text/plain": [
       "            ride_id  rideable_type           started_at             ended_at  \\\n",
       "0  6F1682AC40EB6F71  electric_bike  2023-06-05 13:34:12  2023-06-05 14:31:56   \n",
       "1  622A1686D64948EB  electric_bike  2023-06-05 01:30:22  2023-06-05 01:33:06   \n",
       "2  3C88859D926253B4  electric_bike  2023-06-20 18:15:49  2023-06-20 18:32:05   \n",
       "3  EAD8A5E0259DEC88  electric_bike  2023-06-19 14:56:00  2023-06-19 15:00:35   \n",
       "4  5A36F21930D6A55C  electric_bike  2023-06-19 15:03:34  2023-06-19 15:07:16   \n",
       "\n",
       "  start_station_name start_station_id end_station_name end_station_id  \\\n",
       "0      Not Available    Not Available    Not Available  Not Available   \n",
       "1      Not Available    Not Available    Not Available  Not Available   \n",
       "2      Not Available    Not Available    Not Available  Not Available   \n",
       "3      Not Available    Not Available    Not Available  Not Available   \n",
       "4      Not Available    Not Available    Not Available  Not Available   \n",
       "\n",
       "   start_lat  start_lng  end_lat  end_lng member_casual ride_length  \\\n",
       "0      41.91     -87.69    41.91   -87.70        member    00:57:44   \n",
       "1      41.94     -87.65    41.94   -87.65        member    00:02:44   \n",
       "2      41.95     -87.68    41.92   -87.63        member    00:16:16   \n",
       "3      41.99     -87.65    41.98   -87.66        member    00:04:35   \n",
       "4      41.98     -87.66    41.99   -87.65        member    00:03:42   \n",
       "\n",
       "   day_of_week  \n",
       "0            1  \n",
       "1            1  \n",
       "2            2  \n",
       "3            1  \n",
       "4            1  "
      ]
     },
     "execution_count": 3,
     "metadata": {},
     "output_type": "execute_result"
    }
   ],
   "source": [
    "final_df.head()"
   ]
  },
  {
   "cell_type": "code",
   "execution_count": 4,
   "metadata": {},
   "outputs": [
    {
     "data": {
      "text/plain": [
       "(5735153, 15)"
      ]
     },
     "execution_count": 4,
     "metadata": {},
     "output_type": "execute_result"
    }
   ],
   "source": [
    "final_df.shape"
   ]
  },
  {
   "cell_type": "code",
   "execution_count": 5,
   "metadata": {},
   "outputs": [
    {
     "data": {
      "text/plain": [
       "ride_id                object\n",
       "rideable_type          object\n",
       "started_at             object\n",
       "ended_at               object\n",
       "start_station_name     object\n",
       "start_station_id       object\n",
       "end_station_name       object\n",
       "end_station_id         object\n",
       "start_lat             float64\n",
       "start_lng             float64\n",
       "end_lat               float64\n",
       "end_lng               float64\n",
       "member_casual          object\n",
       "ride_length            object\n",
       "day_of_week             int64\n",
       "dtype: object"
      ]
     },
     "execution_count": 5,
     "metadata": {},
     "output_type": "execute_result"
    }
   ],
   "source": [
    "final_df.dtypes"
   ]
  },
  {
   "cell_type": "code",
   "execution_count": 7,
   "metadata": {},
   "outputs": [],
   "source": [
    "final_df['ride_length'] = pd.to_timedelta(final_df['ride_length'])"
   ]
  },
  {
   "cell_type": "code",
   "execution_count": 9,
   "metadata": {},
   "outputs": [
    {
     "data": {
      "text/plain": [
       "day_of_week\n",
       "1   0 days 00:14:42.525647498\n",
       "2   0 days 00:13:51.875837906\n",
       "3   0 days 00:13:40.950754349\n",
       "4   0 days 00:13:39.316371214\n",
       "5   0 days 00:15:11.840854483\n",
       "6   0 days 00:18:32.901706240\n",
       "7   0 days 00:18:38.147492310\n",
       "Name: ride_length, dtype: timedelta64[ns]"
      ]
     },
     "execution_count": 9,
     "metadata": {},
     "output_type": "execute_result"
    }
   ],
   "source": [
    "final_df.groupby('day_of_week')['ride_length'].mean()"
   ]
  },
  {
   "cell_type": "code",
   "execution_count": 11,
   "metadata": {},
   "outputs": [
    {
     "name": "stdout",
     "output_type": "stream",
     "text": [
      "Mean ride length: 0 days 00:15:28.364338667\n"
     ]
    }
   ],
   "source": [
    "print(f\"Mean ride length: {final_df['ride_length'].mean()}\")"
   ]
  },
  {
   "cell_type": "code",
   "execution_count": null,
   "metadata": {},
   "outputs": [],
   "source": []
  }
 ],
 "metadata": {
  "kernelspec": {
   "display_name": "Python 3",
   "language": "python",
   "name": "python3"
  },
  "language_info": {
   "codemirror_mode": {
    "name": "ipython",
    "version": 3
   },
   "file_extension": ".py",
   "mimetype": "text/x-python",
   "name": "python",
   "nbconvert_exporter": "python",
   "pygments_lexer": "ipython3",
   "version": "3.10.11"
  }
 },
 "nbformat": 4,
 "nbformat_minor": 2
}
